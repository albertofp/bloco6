{
 "cells": [
  {
   "cell_type": "markdown",
   "id": "719bf794-288d-4c40-bfcd-f7f34f1cf50e",
   "metadata": {},
   "source": [
    "# TP1 - Alberto F. Pluecker"
   ]
  },
  {
   "cell_type": "code",
   "execution_count": 10,
   "id": "ef0cd7d6-8450-4ba0-8cb8-5362abb40f1d",
   "metadata": {
    "scrolled": true
   },
   "outputs": [
    {
     "data": {
      "text/html": [
       "<div>\n",
       "<style scoped>\n",
       "    .dataframe tbody tr th:only-of-type {\n",
       "        vertical-align: middle;\n",
       "    }\n",
       "\n",
       "    .dataframe tbody tr th {\n",
       "        vertical-align: top;\n",
       "    }\n",
       "\n",
       "    .dataframe thead th {\n",
       "        text-align: right;\n",
       "    }\n",
       "</style>\n",
       "<table border=\"1\" class=\"dataframe\">\n",
       "  <thead>\n",
       "    <tr style=\"text-align: right;\">\n",
       "      <th></th>\n",
       "      <th>species</th>\n",
       "      <th>island</th>\n",
       "      <th>bill_length_mm</th>\n",
       "      <th>bill_depth_mm</th>\n",
       "      <th>flipper_length_mm</th>\n",
       "      <th>body_mass_g</th>\n",
       "      <th>sex</th>\n",
       "    </tr>\n",
       "  </thead>\n",
       "  <tbody>\n",
       "    <tr>\n",
       "      <th>0</th>\n",
       "      <td>Adelie</td>\n",
       "      <td>Torgersen</td>\n",
       "      <td>39.1</td>\n",
       "      <td>18.7</td>\n",
       "      <td>181.0</td>\n",
       "      <td>3750.0</td>\n",
       "      <td>MALE</td>\n",
       "    </tr>\n",
       "    <tr>\n",
       "      <th>1</th>\n",
       "      <td>Adelie</td>\n",
       "      <td>Torgersen</td>\n",
       "      <td>39.5</td>\n",
       "      <td>17.4</td>\n",
       "      <td>186.0</td>\n",
       "      <td>3800.0</td>\n",
       "      <td>FEMALE</td>\n",
       "    </tr>\n",
       "    <tr>\n",
       "      <th>2</th>\n",
       "      <td>Adelie</td>\n",
       "      <td>Torgersen</td>\n",
       "      <td>40.3</td>\n",
       "      <td>18.0</td>\n",
       "      <td>195.0</td>\n",
       "      <td>3250.0</td>\n",
       "      <td>FEMALE</td>\n",
       "    </tr>\n",
       "    <tr>\n",
       "      <th>4</th>\n",
       "      <td>Adelie</td>\n",
       "      <td>Torgersen</td>\n",
       "      <td>36.7</td>\n",
       "      <td>19.3</td>\n",
       "      <td>193.0</td>\n",
       "      <td>3450.0</td>\n",
       "      <td>FEMALE</td>\n",
       "    </tr>\n",
       "    <tr>\n",
       "      <th>5</th>\n",
       "      <td>Adelie</td>\n",
       "      <td>Torgersen</td>\n",
       "      <td>39.3</td>\n",
       "      <td>20.6</td>\n",
       "      <td>190.0</td>\n",
       "      <td>3650.0</td>\n",
       "      <td>MALE</td>\n",
       "    </tr>\n",
       "  </tbody>\n",
       "</table>\n",
       "</div>"
      ],
      "text/plain": [
       "  species     island  bill_length_mm  bill_depth_mm  flipper_length_mm  \\\n",
       "0  Adelie  Torgersen            39.1           18.7              181.0   \n",
       "1  Adelie  Torgersen            39.5           17.4              186.0   \n",
       "2  Adelie  Torgersen            40.3           18.0              195.0   \n",
       "4  Adelie  Torgersen            36.7           19.3              193.0   \n",
       "5  Adelie  Torgersen            39.3           20.6              190.0   \n",
       "\n",
       "   body_mass_g     sex  \n",
       "0       3750.0    MALE  \n",
       "1       3800.0  FEMALE  \n",
       "2       3250.0  FEMALE  \n",
       "4       3450.0  FEMALE  \n",
       "5       3650.0    MALE  "
      ]
     },
     "execution_count": 10,
     "metadata": {},
     "output_type": "execute_result"
    }
   ],
   "source": [
    "import pandas as pd\n",
    "import numpy as np\n",
    "import matplotlib.pyplot as plt\n",
    "from sklearn.preprocessing import FunctionTransformer, PowerTransformer, MinMaxScaler, StandardScaler\n",
    "from sklearn.linear_model import Ridge\n",
    "from sklearn.metrics import mean_squared_error\n",
    "from sklearn.model_selection import train_test_split\n",
    "\n",
    "url = 'https://raw.githubusercontent.com/mwaskom/seaborn-data/master/penguins.csv'\n",
    "penguins = pd.read_csv(url).dropna()\n",
    "penguins.head()"
   ]
  },
  {
   "cell_type": "markdown",
   "id": "22ba44c7-c28b-4530-b65a-9dd458faaf34",
   "metadata": {},
   "source": [
    "## 1. Examine o dataset Palmer Penguins e explique o que são 'features' no contexto deste dataset específico. Discuta como as features influenciam o desempenho de um modelo de Machine Learning.\n",
    "\n",
    "Features são as variáveis independentes de um dataset que alimentam os modelos de Machine Learning. No contexto do dataset Palmer Penguins, as features incluem:\n",
    "\n",
    "- `species`: a espécie do pinguim.\n",
    "- `island`: a ilha onde o pinguim foi encontrado.\n",
    "- `bill_length_mm`: o comprimento do bico em milímetros.\n",
    "- `bill_depth_mm`: a profundidade do bico em milímetros.\n",
    "- `flipper_length_mm`: o comprimento da nadadeira em milímetros.\n",
    "- `body_mass_g`: a massa corporal em gramas.\n",
    "- `sex`: o sexo do pinguim.\n",
    "\n",
    "As features influenciam o desempenho de um modelo de Machine Learning, ao determinar a quantidade e a qualidade da informação que o modelo pode usar para identificar padrões nos dados. Se as features são bem escolhidas e relevantes para a tarefa, o modelo tende a ter um desempenho melhor."
   ]
  },
  {
   "cell_type": "markdown",
   "id": "cb479d49-8d20-4691-84be-b21712e066c0",
   "metadata": {
    "jp-MarkdownHeadingCollapsed": true
   },
   "source": [
    "## 2. Com base nos dados do dataset Palmer Penguins, identifique exemplos de escalares, vetores e explique o conceito de espaços em Machine Learning.\n",
    "\n",
    "- **Escalares:** São valores únicos, como `bill_length_mm` = 39.1 para um pinguim específico.\n",
    "- **Vetores:** Um vetor pode ser uma linha do dataframe que representa todas as características de um pinguim específico, por exemplo: `[39.1, 18.7, 181, 3750, 'Adelie', 'Torgersen', 'Male']`.\n",
    "- **Espaços:** Em Machine Learning, o espaço de features refere-se ao conjunto de todos os vetores possíveis. Cada ponto no espaço é uma instância dos dados, e a dimensionalidade do espaço é igual ao número de features.\n"
   ]
  },
  {
   "cell_type": "markdown",
   "id": "0c5bced9-a263-43f1-a0ba-30434a8be80f",
   "metadata": {},
   "source": [
    "## 3. Utilize a técnica de quantização com bins fixos para discretizar uma variável contínua do dataset Palmer Penguins. Explique a razão pela qual você escolheu essa variável e como a discretização pode afetar a análise.\n",
    "\n",
    "Vamos discretizar a variável `bill_length_mm` usando a técnica de quantização com bins fixos.\n",
    "\n",
    "`bill_length_mm` é uma variável contínua que pode ser útil para categorizar pinguins em grupos distintos com base no comprimento do bico.\n",
    "\n",
    "Discretizar uma variável contínua pode simplificar a análise ao reduzir a variabilidade, mas também pode levar à perda de informação. Ao categorizar `bill_length_mm`, podemos identificar padrões mais facilmente, mas perdemos a precisão dos dados originais."
   ]
  },
  {
   "cell_type": "code",
   "execution_count": 6,
   "id": "c9b3e504-d151-41a1-a75e-0b9d85045277",
   "metadata": {},
   "outputs": [
    {
     "data": {
      "text/html": [
       "<div>\n",
       "<style scoped>\n",
       "    .dataframe tbody tr th:only-of-type {\n",
       "        vertical-align: middle;\n",
       "    }\n",
       "\n",
       "    .dataframe tbody tr th {\n",
       "        vertical-align: top;\n",
       "    }\n",
       "\n",
       "    .dataframe thead th {\n",
       "        text-align: right;\n",
       "    }\n",
       "</style>\n",
       "<table border=\"1\" class=\"dataframe\">\n",
       "  <thead>\n",
       "    <tr style=\"text-align: right;\">\n",
       "      <th></th>\n",
       "      <th>bill_length_mm</th>\n",
       "      <th>bill_length_bins_fixed</th>\n",
       "    </tr>\n",
       "  </thead>\n",
       "  <tbody>\n",
       "    <tr>\n",
       "      <th>0</th>\n",
       "      <td>39.1</td>\n",
       "      <td>1.0</td>\n",
       "    </tr>\n",
       "    <tr>\n",
       "      <th>1</th>\n",
       "      <td>39.5</td>\n",
       "      <td>1.0</td>\n",
       "    </tr>\n",
       "    <tr>\n",
       "      <th>2</th>\n",
       "      <td>40.3</td>\n",
       "      <td>1.0</td>\n",
       "    </tr>\n",
       "    <tr>\n",
       "      <th>3</th>\n",
       "      <td>NaN</td>\n",
       "      <td>NaN</td>\n",
       "    </tr>\n",
       "    <tr>\n",
       "      <th>4</th>\n",
       "      <td>36.7</td>\n",
       "      <td>0.0</td>\n",
       "    </tr>\n",
       "  </tbody>\n",
       "</table>\n",
       "</div>"
      ],
      "text/plain": [
       "   bill_length_mm  bill_length_bins_fixed\n",
       "0            39.1                     1.0\n",
       "1            39.5                     1.0\n",
       "2            40.3                     1.0\n",
       "3             NaN                     NaN\n",
       "4            36.7                     0.0"
      ]
     },
     "execution_count": 6,
     "metadata": {},
     "output_type": "execute_result"
    }
   ],
   "source": [
    "bins_fixed = pd.cut(penguins['bill_length_mm'], bins=5, labels=False)\n",
    "penguins['bill_length_bins_fixed'] = bins_fixed\n",
    "penguins[['bill_length_mm', 'bill_length_bins_fixed']].head()"
   ]
  },
  {
   "cell_type": "markdown",
   "id": "ae7bc789-5caa-47d2-9580-007b457f7775",
   "metadata": {},
   "source": [
    "## 4. Aplique a técnica de quantização com bins variáveis em uma variável contínua do dataset Palmer Penguins. Compare os resultados com a discretização feita no exercício anterior.\n",
    "\n",
    "A discretização com bins fixos divide a variável em intervalos de tamanho igual, enquanto a discretização com bins variáveis divide a variável em intervalos com quantidades iguais de dados. Isso pode proporcionar uma análise mais equilibrada quando a distribuição dos dados é desigual."
   ]
  },
  {
   "cell_type": "code",
   "execution_count": 7,
   "id": "39661427-c062-4883-9771-a07ce05ada79",
   "metadata": {},
   "outputs": [
    {
     "data": {
      "text/html": [
       "<div>\n",
       "<style scoped>\n",
       "    .dataframe tbody tr th:only-of-type {\n",
       "        vertical-align: middle;\n",
       "    }\n",
       "\n",
       "    .dataframe tbody tr th {\n",
       "        vertical-align: top;\n",
       "    }\n",
       "\n",
       "    .dataframe thead th {\n",
       "        text-align: right;\n",
       "    }\n",
       "</style>\n",
       "<table border=\"1\" class=\"dataframe\">\n",
       "  <thead>\n",
       "    <tr style=\"text-align: right;\">\n",
       "      <th></th>\n",
       "      <th>bill_length_mm</th>\n",
       "      <th>bill_length_bins_variable</th>\n",
       "    </tr>\n",
       "  </thead>\n",
       "  <tbody>\n",
       "    <tr>\n",
       "      <th>0</th>\n",
       "      <td>39.1</td>\n",
       "      <td>1.0</td>\n",
       "    </tr>\n",
       "    <tr>\n",
       "      <th>1</th>\n",
       "      <td>39.5</td>\n",
       "      <td>1.0</td>\n",
       "    </tr>\n",
       "    <tr>\n",
       "      <th>2</th>\n",
       "      <td>40.3</td>\n",
       "      <td>1.0</td>\n",
       "    </tr>\n",
       "    <tr>\n",
       "      <th>3</th>\n",
       "      <td>NaN</td>\n",
       "      <td>NaN</td>\n",
       "    </tr>\n",
       "    <tr>\n",
       "      <th>4</th>\n",
       "      <td>36.7</td>\n",
       "      <td>0.0</td>\n",
       "    </tr>\n",
       "  </tbody>\n",
       "</table>\n",
       "</div>"
      ],
      "text/plain": [
       "   bill_length_mm  bill_length_bins_variable\n",
       "0            39.1                        1.0\n",
       "1            39.5                        1.0\n",
       "2            40.3                        1.0\n",
       "3             NaN                        NaN\n",
       "4            36.7                        0.0"
      ]
     },
     "execution_count": 7,
     "metadata": {},
     "output_type": "execute_result"
    }
   ],
   "source": [
    "bins_variable = pd.qcut(penguins['bill_length_mm'], q=5, labels=False)\n",
    "penguins['bill_length_bins_variable'] = bins_variable\n",
    "penguins[['bill_length_mm', 'bill_length_bins_variable']].head()"
   ]
  },
  {
   "cell_type": "markdown",
   "id": "e9888843-ca00-4ed4-ac28-fc422b306349",
   "metadata": {},
   "source": [
    "## 5. Aplique a FunctionTransformer do Scikit-Learn em uma variável do dataset Palmer Penguins. Descreva o processo e explique como essa transformação pode ser benéfica.\n",
    "\n",
    "Vamos aplicar a `FunctionTransformer` para escalar a variável `body_mass_g` usando uma transformação logarítmica."
   ]
  },
  {
   "cell_type": "code",
   "execution_count": 22,
   "id": "ed2d5c30-5749-4094-ad2d-a25af5ebeb3b",
   "metadata": {},
   "outputs": [
    {
     "name": "stderr",
     "output_type": "stream",
     "text": [
      "/home/albertofp/github/infnet/bloco6/tp1/.venv/lib/python3.12/site-packages/sklearn/base.py:486: UserWarning: X has feature names, but FunctionTransformer was fitted without feature names\n",
      "  warnings.warn(\n"
     ]
    },
    {
     "data": {
      "text/html": [
       "<div>\n",
       "<style scoped>\n",
       "    .dataframe tbody tr th:only-of-type {\n",
       "        vertical-align: middle;\n",
       "    }\n",
       "\n",
       "    .dataframe tbody tr th {\n",
       "        vertical-align: top;\n",
       "    }\n",
       "\n",
       "    .dataframe thead th {\n",
       "        text-align: right;\n",
       "    }\n",
       "</style>\n",
       "<table border=\"1\" class=\"dataframe\">\n",
       "  <thead>\n",
       "    <tr style=\"text-align: right;\">\n",
       "      <th></th>\n",
       "      <th>body_mass_g</th>\n",
       "      <th>log_body_mass_g</th>\n",
       "    </tr>\n",
       "  </thead>\n",
       "  <tbody>\n",
       "    <tr>\n",
       "      <th>0</th>\n",
       "      <td>3750.0</td>\n",
       "      <td>8.229778</td>\n",
       "    </tr>\n",
       "    <tr>\n",
       "      <th>1</th>\n",
       "      <td>3800.0</td>\n",
       "      <td>8.243019</td>\n",
       "    </tr>\n",
       "    <tr>\n",
       "      <th>2</th>\n",
       "      <td>3250.0</td>\n",
       "      <td>8.086718</td>\n",
       "    </tr>\n",
       "    <tr>\n",
       "      <th>4</th>\n",
       "      <td>3450.0</td>\n",
       "      <td>8.146419</td>\n",
       "    </tr>\n",
       "    <tr>\n",
       "      <th>5</th>\n",
       "      <td>3650.0</td>\n",
       "      <td>8.202756</td>\n",
       "    </tr>\n",
       "  </tbody>\n",
       "</table>\n",
       "</div>"
      ],
      "text/plain": [
       "   body_mass_g  log_body_mass_g\n",
       "0       3750.0         8.229778\n",
       "1       3800.0         8.243019\n",
       "2       3250.0         8.086718\n",
       "4       3450.0         8.146419\n",
       "5       3650.0         8.202756"
      ]
     },
     "execution_count": 22,
     "metadata": {},
     "output_type": "execute_result"
    }
   ],
   "source": [
    "log_transformer = FunctionTransformer(np.log1p, validate=True)\n",
    "penguins['log_body_mass_g'] = log_transformer.transform(penguins[['body_mass_g']])\n",
    "penguins[['body_mass_g', 'log_body_mass_g']].head()"
   ]
  },
  {
   "cell_type": "markdown",
   "id": "ff44dedc-b31b-4c56-afa1-49ece487d082",
   "metadata": {},
   "source": [
    "## 6. Utilize a PowerTransformer do Scikit-Learn para transformar uma variável do dataset Palmer Penguins. Discuta os benefícios dessa transformação.\n",
    "\n",
    "O `PowerTransformer` visa transformar os dados para aproximar uma distribuição normal, o que pode melhorar o desempenho de modelos sensíveis a distribuições normais."
   ]
  },
  {
   "cell_type": "code",
   "execution_count": 15,
   "id": "81a9477a-c572-4f7e-9c8a-a827e8426895",
   "metadata": {},
   "outputs": [
    {
     "data": {
      "text/html": [
       "<div>\n",
       "<style scoped>\n",
       "    .dataframe tbody tr th:only-of-type {\n",
       "        vertical-align: middle;\n",
       "    }\n",
       "\n",
       "    .dataframe tbody tr th {\n",
       "        vertical-align: top;\n",
       "    }\n",
       "\n",
       "    .dataframe thead th {\n",
       "        text-align: right;\n",
       "    }\n",
       "</style>\n",
       "<table border=\"1\" class=\"dataframe\">\n",
       "  <thead>\n",
       "    <tr style=\"text-align: right;\">\n",
       "      <th></th>\n",
       "      <th>flipper_length_mm</th>\n",
       "      <th>power_flipper_length_mm</th>\n",
       "    </tr>\n",
       "  </thead>\n",
       "  <tbody>\n",
       "    <tr>\n",
       "      <th>0</th>\n",
       "      <td>181.0</td>\n",
       "      <td>-1.599227</td>\n",
       "    </tr>\n",
       "    <tr>\n",
       "      <th>1</th>\n",
       "      <td>186.0</td>\n",
       "      <td>-1.116522</td>\n",
       "    </tr>\n",
       "    <tr>\n",
       "      <th>2</th>\n",
       "      <td>195.0</td>\n",
       "      <td>-0.343848</td>\n",
       "    </tr>\n",
       "    <tr>\n",
       "      <th>4</th>\n",
       "      <td>193.0</td>\n",
       "      <td>-0.505776</td>\n",
       "    </tr>\n",
       "    <tr>\n",
       "      <th>5</th>\n",
       "      <td>190.0</td>\n",
       "      <td>-0.758838</td>\n",
       "    </tr>\n",
       "  </tbody>\n",
       "</table>\n",
       "</div>"
      ],
      "text/plain": [
       "   flipper_length_mm  power_flipper_length_mm\n",
       "0              181.0                -1.599227\n",
       "1              186.0                -1.116522\n",
       "2              195.0                -0.343848\n",
       "4              193.0                -0.505776\n",
       "5              190.0                -0.758838"
      ]
     },
     "execution_count": 15,
     "metadata": {},
     "output_type": "execute_result"
    }
   ],
   "source": [
    "power_transformer = PowerTransformer()\n",
    "penguins['power_flipper_length_mm'] = power_transformer.fit_transform(penguins[['flipper_length_mm']])\n",
    "penguins[['flipper_length_mm', 'power_flipper_length_mm']].head()"
   ]
  },
  {
   "cell_type": "markdown",
   "id": "70f2cdcf-23ef-4ea6-adfa-63a637614007",
   "metadata": {},
   "source": [
    "## 7. Aplique a normalização Min-Max do Scikit-Learn em uma ou mais variáveis do dataset Palmer Penguins. Explique como essa normalização impacta o modelo de Machine Learning.\n",
    "\n",
    "A normalização Min-Max escala os dados para um intervalo [0, 1], preservando as relações entre valores e é útil para algoritmos baseados em distância."
   ]
  },
  {
   "cell_type": "code",
   "execution_count": 23,
   "id": "eecc1e3c-def6-46a6-b886-31d715414899",
   "metadata": {},
   "outputs": [
    {
     "data": {
      "text/html": [
       "<div>\n",
       "<style scoped>\n",
       "    .dataframe tbody tr th:only-of-type {\n",
       "        vertical-align: middle;\n",
       "    }\n",
       "\n",
       "    .dataframe tbody tr th {\n",
       "        vertical-align: top;\n",
       "    }\n",
       "\n",
       "    .dataframe thead th {\n",
       "        text-align: right;\n",
       "    }\n",
       "</style>\n",
       "<table border=\"1\" class=\"dataframe\">\n",
       "  <thead>\n",
       "    <tr style=\"text-align: right;\">\n",
       "      <th></th>\n",
       "      <th>bill_depth_mm</th>\n",
       "      <th>minmax_bill_depth_mm</th>\n",
       "    </tr>\n",
       "  </thead>\n",
       "  <tbody>\n",
       "    <tr>\n",
       "      <th>0</th>\n",
       "      <td>18.7</td>\n",
       "      <td>0.666667</td>\n",
       "    </tr>\n",
       "    <tr>\n",
       "      <th>1</th>\n",
       "      <td>17.4</td>\n",
       "      <td>0.511905</td>\n",
       "    </tr>\n",
       "    <tr>\n",
       "      <th>2</th>\n",
       "      <td>18.0</td>\n",
       "      <td>0.583333</td>\n",
       "    </tr>\n",
       "    <tr>\n",
       "      <th>4</th>\n",
       "      <td>19.3</td>\n",
       "      <td>0.738095</td>\n",
       "    </tr>\n",
       "    <tr>\n",
       "      <th>5</th>\n",
       "      <td>20.6</td>\n",
       "      <td>0.892857</td>\n",
       "    </tr>\n",
       "  </tbody>\n",
       "</table>\n",
       "</div>"
      ],
      "text/plain": [
       "   bill_depth_mm  minmax_bill_depth_mm\n",
       "0           18.7              0.666667\n",
       "1           17.4              0.511905\n",
       "2           18.0              0.583333\n",
       "4           19.3              0.738095\n",
       "5           20.6              0.892857"
      ]
     },
     "execution_count": 23,
     "metadata": {},
     "output_type": "execute_result"
    }
   ],
   "source": [
    "min_max_scaler = MinMaxScaler()\n",
    "penguins['minmax_bill_depth_mm'] = min_max_scaler.fit_transform(penguins[['bill_depth_mm']])\n",
    "penguins[['bill_depth_mm', 'minmax_bill_depth_mm']].head()"
   ]
  },
  {
   "cell_type": "markdown",
   "id": "38da500f-1c1d-4885-9f48-a764f86adb20",
   "metadata": {},
   "source": [
    "## 8. Utilize o StandardScaler do Scikit-Learn para normalizar variáveis do dataset Palmer Penguins. Discuta a diferença entre esta técnica e a normalização Min-Max.\n",
    "\n",
    "O `StandardScaler` padroniza os dados subtraindo a média e dividindo pelo desvio padrão, resultando em dados com média zero e variância um.  O Min-Max não leva em consideração a média e desvio padrão em seu cálculo."
   ]
  },
  {
   "cell_type": "code",
   "execution_count": 24,
   "id": "04f7d5bc-4c24-44aa-94d1-73b7b71d5a18",
   "metadata": {},
   "outputs": [
    {
     "data": {
      "text/html": [
       "<div>\n",
       "<style scoped>\n",
       "    .dataframe tbody tr th:only-of-type {\n",
       "        vertical-align: middle;\n",
       "    }\n",
       "\n",
       "    .dataframe tbody tr th {\n",
       "        vertical-align: top;\n",
       "    }\n",
       "\n",
       "    .dataframe thead th {\n",
       "        text-align: right;\n",
       "    }\n",
       "</style>\n",
       "<table border=\"1\" class=\"dataframe\">\n",
       "  <thead>\n",
       "    <tr style=\"text-align: right;\">\n",
       "      <th></th>\n",
       "      <th>bill_depth_mm</th>\n",
       "      <th>standard_bill_depth_mm</th>\n",
       "    </tr>\n",
       "  </thead>\n",
       "  <tbody>\n",
       "    <tr>\n",
       "      <th>0</th>\n",
       "      <td>18.7</td>\n",
       "      <td>0.780732</td>\n",
       "    </tr>\n",
       "    <tr>\n",
       "      <th>1</th>\n",
       "      <td>17.4</td>\n",
       "      <td>0.119584</td>\n",
       "    </tr>\n",
       "    <tr>\n",
       "      <th>2</th>\n",
       "      <td>18.0</td>\n",
       "      <td>0.424729</td>\n",
       "    </tr>\n",
       "    <tr>\n",
       "      <th>4</th>\n",
       "      <td>19.3</td>\n",
       "      <td>1.085877</td>\n",
       "    </tr>\n",
       "    <tr>\n",
       "      <th>5</th>\n",
       "      <td>20.6</td>\n",
       "      <td>1.747026</td>\n",
       "    </tr>\n",
       "  </tbody>\n",
       "</table>\n",
       "</div>"
      ],
      "text/plain": [
       "   bill_depth_mm  standard_bill_depth_mm\n",
       "0           18.7                0.780732\n",
       "1           17.4                0.119584\n",
       "2           18.0                0.424729\n",
       "4           19.3                1.085877\n",
       "5           20.6                1.747026"
      ]
     },
     "execution_count": 24,
     "metadata": {},
     "output_type": "execute_result"
    }
   ],
   "source": [
    "standard_scaler = StandardScaler()\n",
    "penguins['standard_bill_depth_mm'] = standard_scaler.fit_transform(penguins[['bill_depth_mm']])\n",
    "penguins[['bill_depth_mm', 'standard_bill_depth_mm']].head()"
   ]
  },
  {
   "cell_type": "markdown",
   "id": "0b736b9a-91fa-4b46-be10-6336be420c49",
   "metadata": {},
   "source": [
    "## 9. Implemente um modelo de regressão linear com regularização norma-L2 utilizando o dataset Palmer Penguins.\n",
    "\n",
    "Escolhi implementar um modelo de regressão linear Ridge na variável `body_mass_g`.\n",
    "\n",
    "A regularização L2 adiciona uma penalização à magnitude dos coeficientes, reduzindo o overfitting ao simplificando o modelo."
   ]
  },
  {
   "cell_type": "code",
   "execution_count": 25,
   "id": "8b8e1975-27b5-4c77-9160-3f4a4202e48c",
   "metadata": {},
   "outputs": [
    {
     "data": {
      "text/plain": [
       "np.float64(127204.37997248198)"
      ]
     },
     "execution_count": 25,
     "metadata": {},
     "output_type": "execute_result"
    }
   ],
   "source": [
    "features = ['bill_length_mm', 'bill_depth_mm', 'flipper_length_mm']\n",
    "target = 'body_mass_g'\n",
    "\n",
    "# Separar os dados em conjuntos de treino e teste\n",
    "X_train, X_test, y_train, y_test = train_test_split(penguins[features], penguins[target], test_size=0.2, random_state=42)\n",
    "\n",
    "# Instanciar e ajustar o modelo Ridge\n",
    "ridge = Ridge(alpha=1.0)\n",
    "ridge.fit(X_train, y_train)\n",
    "\n",
    "# Predizer e calcular o erro quadrático médio\n",
    "y_pred = ridge.predict(X_test)\n",
    "mse = mean_squared_error(y_test, y_pred)\n",
    "\n",
    "mse"
   ]
  },
  {
   "cell_type": "markdown",
   "id": "b039946d-7aa3-47df-9d24-12b98c4bcfc5",
   "metadata": {},
   "source": [
    "## 10. Utilize a FunctionTransformer do Scikit-Learn para aplicar múltiplas transformações em sequência a uma variável do dataset Palmer Penguins. Por exemplo, aplique uma transformação logarítmica seguida por uma transformação exponencial inversa. Explique os passos realizados e analise como essas transformações impactam a distribuição da variável transformada.\n",
    "\n",
    "Aplicaremos as transformações logarítmica e exponencial inversa à variável `body_mass_g`.\n",
    "\n",
    "Aplicar transformações complexas pode modificar a distribuição dos dados, tornando-os mais adequados para certos algoritmos, mas também pode introduzir complexidade adicional."
   ]
  },
  {
   "cell_type": "code",
   "execution_count": 29,
   "id": "2d961c26-a775-44b0-ac9a-5f57a85a6985",
   "metadata": {
    "scrolled": true
   },
   "outputs": [
    {
     "name": "stderr",
     "output_type": "stream",
     "text": [
      "/home/albertofp/github/infnet/bloco6/tp1/.venv/lib/python3.12/site-packages/sklearn/base.py:486: UserWarning: X has feature names, but FunctionTransformer was fitted without feature names\n",
      "  warnings.warn(\n"
     ]
    },
    {
     "data": {
      "text/html": [
       "<div>\n",
       "<style scoped>\n",
       "    .dataframe tbody tr th:only-of-type {\n",
       "        vertical-align: middle;\n",
       "    }\n",
       "\n",
       "    .dataframe tbody tr th {\n",
       "        vertical-align: top;\n",
       "    }\n",
       "\n",
       "    .dataframe thead th {\n",
       "        text-align: right;\n",
       "    }\n",
       "</style>\n",
       "<table border=\"1\" class=\"dataframe\">\n",
       "  <thead>\n",
       "    <tr style=\"text-align: right;\">\n",
       "      <th></th>\n",
       "      <th>body_mass_g</th>\n",
       "      <th>log_invexp_body_mass_g</th>\n",
       "    </tr>\n",
       "  </thead>\n",
       "  <tbody>\n",
       "    <tr>\n",
       "      <th>0</th>\n",
       "      <td>3750.0</td>\n",
       "      <td>3750.0</td>\n",
       "    </tr>\n",
       "    <tr>\n",
       "      <th>1</th>\n",
       "      <td>3800.0</td>\n",
       "      <td>3800.0</td>\n",
       "    </tr>\n",
       "    <tr>\n",
       "      <th>2</th>\n",
       "      <td>3250.0</td>\n",
       "      <td>3250.0</td>\n",
       "    </tr>\n",
       "    <tr>\n",
       "      <th>4</th>\n",
       "      <td>3450.0</td>\n",
       "      <td>3450.0</td>\n",
       "    </tr>\n",
       "    <tr>\n",
       "      <th>5</th>\n",
       "      <td>3650.0</td>\n",
       "      <td>3650.0</td>\n",
       "    </tr>\n",
       "  </tbody>\n",
       "</table>\n",
       "</div>"
      ],
      "text/plain": [
       "   body_mass_g  log_invexp_body_mass_g\n",
       "0       3750.0                  3750.0\n",
       "1       3800.0                  3800.0\n",
       "2       3250.0                  3250.0\n",
       "4       3450.0                  3450.0\n",
       "5       3650.0                  3650.0"
      ]
     },
     "execution_count": 29,
     "metadata": {},
     "output_type": "execute_result"
    }
   ],
   "source": [
    "log_transformer = FunctionTransformer(np.log1p, validate=True, feature_names_out='one-to-one')\n",
    "inv_exp_transformer = FunctionTransformer(np.expm1, validate=True, feature_names_out='one-to-one')\n",
    "\n",
    "log_transformed = log_transformer.transform(penguins[['body_mass_g']])\n",
    "inv_exp_transformed = inv_exp_transformer.transform(log_transformed)\n",
    "\n",
    "penguins['log_invexp_body_mass_g'] = inv_exp_transformed\n",
    "penguins[['body_mass_g', 'log_invexp_body_mass_g']].head()"
   ]
  },
  {
   "cell_type": "markdown",
   "id": "c9c788ce-0f50-47ff-a497-833539320a79",
   "metadata": {},
   "source": [
    "## 11. Aplique a PowerTransformer do Scikit-Learn a uma variável do dataset Palmer Penguins. Em seguida, aplique uma transformação alternativa, como a normalização z-score (StandardScaler). Compare as distribuições resultantes das variáveis transformadas usando gráficos e estatísticas descritivas. Discuta as diferenças observadas e as situações em que cada técnica pode ser mais apropriada.\n",
    "\n",
    "Vamos aplicar o `PowerTransformer` e o `StandardScaler` à variável `flipper_length_mm` e comparar os resultados. O `PowerTransformer` é usado para transformar os dados para que se aproximem de uma distribuição normal, enquanto o `StandardScaler` padroniza os dados subtraindo a média e dividindo pelo desvio padrão."
   ]
  },
  {
   "cell_type": "code",
   "execution_count": 30,
   "id": "60c5631b-28f8-49f9-bd6b-9be7e3abb02e",
   "metadata": {},
   "outputs": [
    {
     "data": {
      "image/png": "[encoded data removed]",
      "text/plain": [
       "<Figure size 1200x600 with 3 Axes>"
      ]
     },
     "metadata": {},
     "output_type": "display_data"
    }
   ],
   "source": [
    "power_transformer = PowerTransformer()\n",
    "standard_scaler = StandardScaler()\n",
    "\n",
    "\n",
    "power_transformed = power_transformer.fit_transform(penguins[['flipper_length_mm']])\n",
    "standard_transformed = standard_scaler.fit_transform(penguins[['flipper_length_mm']])\n",
    "\n",
    "penguins['power_flipper_length_mm'] = power_transformed\n",
    "penguins['standard_flipper_length_mm'] = standard_transformed\n",
    "\n",
    "plt.figure(figsize=(12, 6))\n",
    "\n",
    "plt.subplot(1, 3, 1)\n",
    "plt.hist(penguins['flipper_length_mm'], bins=20, color='blue', alpha=0.7)\n",
    "plt.title('Flipper Length Original')\n",
    "\n",
    "plt.subplot(1, 3, 2)\n",
    "plt.hist(penguins['power_flipper_length_mm'], bins=20, color='green', alpha=0.7)\n",
    "plt.title('Power Transformed Flipper Length')\n",
    "\n",
    "plt.subplot(1, 3, 3)\n",
    "plt.hist(penguins['standard_flipper_length_mm'], bins=20, color='red', alpha=0.7)\n",
    "plt.title('Standardized Flipper Length')\n",
    "\n",
    "plt.tight_layout()\n",
    "plt.show()"
   ]
  },
  {
   "cell_type": "markdown",
   "id": "41dadc3c-f517-4d66-bbde-bd55f912748d",
   "metadata": {},
   "source": [
    "O PowerTransformer transforma os dados para que se aproximem de uma distribuição normal, o que pode ser benéfico para modelos que assumem normalidade dos dados. O StandardScaler ajusta a escala dos dados, mas não altera a forma da distribuição, sendo útil quando a normalidade não é crítica, mas a variabilidade na escala deve ser controlada."
   ]
  },
  {
   "cell_type": "markdown",
   "id": "6b51c97f-3440-4913-88c7-d7c76c8e648b",
   "metadata": {},
   "source": [
    "## 12. Aplique a normalização Min-Max do Scikit-Learn a uma variável contínua do dataset Palmer Penguins. Visualize os dados normalizados e compare com os dados originais. Explique como a normalização Min-Max influencia a visualização dos dados e a comparação entre diferentes variáveis.\n",
    "\n",
    "A normalização Min-Max ajusta os dados para um intervalo [0, 1], permitindo a comparação direta entre diferentes variáveis em termos relativos. Vamos aplicar esta técnica à variável `flipper_length_mm` e visualizar os resultados."
   ]
  },
  {
   "cell_type": "code",
   "execution_count": 31,
   "id": "44c4465d-ef74-4ae0-b4fa-eef54678a520",
   "metadata": {},
   "outputs": [
    {
     "data": {
      "image/png": "[encoded data removed]",
      "text/plain": [
       "<Figure size 1200x600 with 2 Axes>"
      ]
     },
     "metadata": {},
     "output_type": "display_data"
    }
   ],
   "source": [
    "min_max_scaler = MinMaxScaler()\n",
    "\n",
    "# Normalizar a variável flipper_length_mm\n",
    "minmax_transformed = min_max_scaler.fit_transform(penguins[['flipper_length_mm']])\n",
    "\n",
    "# Adicionar a variável normalizada ao DataFrame\n",
    "penguins['minmax_flipper_length_mm'] = minmax_transformed\n",
    "\n",
    "# Visualizar dados normalizados e originais\n",
    "plt.figure(figsize=(12, 6))\n",
    "\n",
    "plt.subplot(1, 2, 1)\n",
    "plt.hist(penguins['flipper_length_mm'], bins=20, color='blue', alpha=0.7)\n",
    "plt.title('Original Flipper Length')\n",
    "\n",
    "plt.subplot(1, 2, 2)\n",
    "plt.hist(penguins['minmax_flipper_length_mm'], bins=20, color='purple', alpha=0.7)\n",
    "plt.title('Min-Max Normalized Flipper Length')\n",
    "\n",
    "plt.tight_layout()\n",
    "plt.show()"
   ]
  },
  {
   "cell_type": "markdown",
   "id": "71f32957-1708-442d-8c9d-8f5e8b429556",
   "metadata": {},
   "source": [
    "A normalização Min-Max ajusta os dados para um intervalo padrão, o que é particularmente útil para redes neurais, onde a escala relativa dos dados pode influenciar os resultados. A visualização dos dados após a normalização facilita a comparação entre diferentes variáveis, pois todas são ajustadas para o mesmo intervalo."
   ]
  }
 ],
 "metadata": {
  "kernelspec": {
   "display_name": "Python 3 (ipykernel)",
   "language": "python",
   "name": "python3"
  },
  "language_info": {
   "codemirror_mode": {
    "name": "ipython",
    "version": 3
   },
   "file_extension": ".py",
   "mimetype": "text/x-python",
   "name": "python",
   "nbconvert_exporter": "python",
   "pygments_lexer": "ipython3",
   "version": "3.12.4"
  }
 },
 "nbformat": 4,
 "nbformat_minor": 5
}
