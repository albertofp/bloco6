{
 "cells": [
  {
   "cell_type": "markdown",
   "id": "7c8b792a-03e9-4981-ac96-e8fc40109690",
   "metadata": {},
   "source": [
    "# Alberto Pluecker - Projeto de Bloco: Inteligência Artificial e Machine Learning"
   ]
  },
  {
   "cell_type": "markdown",
   "id": "c319dc86-3363-4577-8b60-95418b415c10",
   "metadata": {},
   "source": [
    "## Carregamento de Dados: Identifique as características (features) e o alvo (target) nos conjuntos de dados, compreendendo sua estrutura e importância."
   ]
  },
  {
   "cell_type": "code",
   "execution_count": null,
   "id": "a69ab6a7-933d-4e7d-a218-c0124dfcf3db",
   "metadata": {},
   "outputs": [],
   "source": []
  },
  {
   "cell_type": "markdown",
   "id": "2bd8c23a-ddf7-4e81-bbfc-b56a3e6dc3a4",
   "metadata": {},
   "source": [
    "## Divisão de Dados: Separe os dados em conjuntos de treino e validação, essenciais para o desenvolvimento e avaliação de modelos de ML. Você irá dividir 80% dos dados para treino e o restante para validação. "
   ]
  },
  {
   "cell_type": "code",
   "execution_count": null,
   "id": "253b353c-df17-4aa1-8685-66ab15025c2d",
   "metadata": {},
   "outputs": [],
   "source": []
  },
  {
   "cell_type": "markdown",
   "id": "45157a78-cb3c-4a72-bde8-6a2b5117bb3c",
   "metadata": {},
   "source": [
    "## Transformação de Dados: Utilize transformadores do Scikit-Learn para ajustar e padronizar as variáveis dos dados."
   ]
  },
  {
   "cell_type": "code",
   "execution_count": null,
   "id": "6ee402b6-8ea3-4177-85bf-84a28725e3b3",
   "metadata": {},
   "outputs": [],
   "source": []
  },
  {
   "cell_type": "markdown",
   "id": "f82e1165-ab19-4edb-a33c-48f1b9a23ef2",
   "metadata": {},
   "source": [
    "## Modelagem de K-Nearest Neighbors (KNN): Implemente e ajuste o algoritmo KNN, compreendendo suas nuances e aplicabilidade."
   ]
  },
  {
   "cell_type": "code",
   "execution_count": null,
   "id": "2761aff6-cc23-4de0-80fb-82a9274230cb",
   "metadata": {},
   "outputs": [],
   "source": []
  },
  {
   "cell_type": "markdown",
   "id": "bddc31ee-60fd-42ba-9e82-6ff7954c134c",
   "metadata": {},
   "source": [
    "## Avaliação de Modelos: Avalie a qualidade do modelo desenvolvido usando acurácia"
   ]
  },
  {
   "cell_type": "code",
   "execution_count": null,
   "id": "324c0cbc-59dc-43ab-a5d9-62e7eb692552",
   "metadata": {},
   "outputs": [],
   "source": []
  },
  {
   "cell_type": "markdown",
   "id": "b34171eb-196f-4d09-8a82-a1fa070874c5",
   "metadata": {},
   "source": [
    "## Análise de Parâmetros: Explore diferentes valores para o parâmetro K do KNN e analise seu impacto nos resultados obtidos (através da acurácia do modelo para os dados de validação)."
   ]
  },
  {
   "cell_type": "code",
   "execution_count": null,
   "id": "2af99c5b-658a-4585-902c-22a428ed5aab",
   "metadata": {},
   "outputs": [],
   "source": []
  }
 ],
 "metadata": {
  "kernelspec": {
   "display_name": "Python 3 (ipykernel)",
   "language": "python",
   "name": "python3"
  },
  "language_info": {
   "codemirror_mode": {
    "name": "ipython",
    "version": 3
   },
   "file_extension": ".py",
   "mimetype": "text/x-python",
   "name": "python",
   "nbconvert_exporter": "python",
   "pygments_lexer": "ipython3",
   "version": "3.12.4"
  }
 },
 "nbformat": 4,
 "nbformat_minor": 5
}
